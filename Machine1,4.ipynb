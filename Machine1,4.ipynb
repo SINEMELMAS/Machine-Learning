{
  "nbformat": 4,
  "nbformat_minor": 0,
  "metadata": {
    "colab": {
      "provenance": []
    },
    "kernelspec": {
      "name": "python3",
      "display_name": "Python 3"
    },
    "language_info": {
      "name": "python"
    }
  },
  "cells": [
    {
      "cell_type": "code",
      "execution_count": null,
      "metadata": {
        "id": "IOUXxNufoCDg"
      },
      "outputs": [],
      "source": [
        "import numpy as np\n",
        "import pandas as pd\n",
        "from sklearn.model_selection import train_test_split , cross_val_score\n",
        "from sklearn.linear_model import Ridge, Lasso, ElasticNet\n",
        "from sklearn.metrics import mean_squared_error, r2_score\n",
        "from sklearn import model_selection\n",
        "import matplotlib.pyplot as plt\n",
        "from sklearn import linear_model\n",
        "from sklearn.linear_model import RidgeCV, LassoCV , ElasticNetCV\n",
        "from sklearn.model_selection import RepeatedKFold"
      ]
    },
    {
      "cell_type": "code",
      "source": [
        "df=pd.read_csv(\"/content/Hitters.csv\")\n",
        "df=df.dropna()"
      ],
      "metadata": {
        "id": "zYydhL1hoZjV"
      },
      "execution_count": null,
      "outputs": []
    },
    {
      "cell_type": "code",
      "source": [
        "dms=pd.get_dummies(df[[\"League\",\"Division\",\"NewLeague\"]])"
      ],
      "metadata": {
        "id": "c1WjA2DDokfL"
      },
      "execution_count": null,
      "outputs": []
    },
    {
      "cell_type": "code",
      "source": [
        "y=df[\"Salary\"]\n",
        "X_=df.drop([\"Salary\",\"League\",\"Division\",\"NewLeague\"],axis=1).astype(\"float64\")\n",
        "X=pd.concat([X_,dms[[\"League_N\",\"Division_W\",\"NewLeague_N\"]]],axis=1)\n",
        "X_train,X_test,y_train,y_test=train_test_split(X,y,test_size=0.25,random_state=42)"
      ],
      "metadata": {
        "id": "ykW7rCzNonov"
      },
      "execution_count": null,
      "outputs": []
    },
    {
      "cell_type": "code",
      "source": [
        "enet_model=ElasticNet().fit(X_train, y_train)"
      ],
      "metadata": {
        "colab": {
          "base_uri": "https://localhost:8080/"
        },
        "id": "LquA82qbo0Nd",
        "outputId": "83707a68-4ad2-4728-b5fc-ac610767e1cf"
      },
      "execution_count": null,
      "outputs": [
        {
          "output_type": "stream",
          "name": "stderr",
          "text": [
            "/usr/local/lib/python3.10/dist-packages/sklearn/linear_model/_coordinate_descent.py:697: ConvergenceWarning: Objective did not converge. You might want to increase the number of iterations, check the scale of the features or consider increasing regularisation. Duality gap: 8.488e+06, tolerance: 3.899e+03\n",
            "  model = cd_fast.enet_coordinate_descent(\n"
          ]
        }
      ]
    },
    {
      "cell_type": "code",
      "source": [
        "enet_model.coef_"
      ],
      "metadata": {
        "colab": {
          "base_uri": "https://localhost:8080/"
        },
        "id": "SHjds1MIpFCM",
        "outputId": "70475451-b01e-4fdb-f897-11f90f17f1d9"
      },
      "execution_count": null,
      "outputs": [
        {
          "output_type": "execute_result",
          "data": {
            "text/plain": [
              "array([ -1.86256172,   8.70489065,   5.10426375,  -2.89875799,\n",
              "        -1.28642985,   5.24343682,   6.04480276,  -0.14701495,\n",
              "        -0.21566628,  -0.7897201 ,   1.80813117,   0.80914508,\n",
              "        -0.61262382,   0.26816203,   0.27172387,  -0.36530729,\n",
              "        19.2186222 , -31.16586592,   8.98369938])"
            ]
          },
          "metadata": {},
          "execution_count": 6
        }
      ]
    },
    {
      "cell_type": "code",
      "source": [
        "enet_model.intercept_"
      ],
      "metadata": {
        "colab": {
          "base_uri": "https://localhost:8080/"
        },
        "id": "ukuGIjkWpJSY",
        "outputId": "e6477942-8249-4821-8aa2-449854332b14"
      },
      "execution_count": null,
      "outputs": [
        {
          "output_type": "execute_result",
          "data": {
            "text/plain": [
              "-6.465955602112331"
            ]
          },
          "metadata": {},
          "execution_count": 7
        }
      ]
    },
    {
      "cell_type": "code",
      "source": [
        "#Prediction\n",
        "enet_model.predict(X_train)[0:10]"
      ],
      "metadata": {
        "colab": {
          "base_uri": "https://localhost:8080/"
        },
        "id": "3sPbx8FcpLov",
        "outputId": "9c4bd53a-6cbc-434c-a506-99eeb3bc793a"
      },
      "execution_count": null,
      "outputs": [
        {
          "output_type": "execute_result",
          "data": {
            "text/plain": [
              "array([325.74706292, 776.06632333, 522.86508419, 107.64091955,\n",
              "       449.03139566, 997.76095723,  99.78828622, 311.33763086,\n",
              "       418.50335021, 879.9502608 ])"
            ]
          },
          "metadata": {},
          "execution_count": 8
        }
      ]
    },
    {
      "cell_type": "code",
      "source": [
        "enet_model.predict(X_test)[0:10]"
      ],
      "metadata": {
        "colab": {
          "base_uri": "https://localhost:8080/"
        },
        "id": "sKssjWyApVTW",
        "outputId": "772bec58-a7f2-45f7-9f53-b491d6a899a6"
      },
      "execution_count": null,
      "outputs": [
        {
          "output_type": "execute_result",
          "data": {
            "text/plain": [
              "array([ 577.79111731,  617.33202224, 1031.39113156,  364.95861575,\n",
              "        489.51894393,  300.74185842,  604.522666  ,  465.34678732,\n",
              "        901.44473965,  703.20357123])"
            ]
          },
          "metadata": {},
          "execution_count": 9
        }
      ]
    },
    {
      "cell_type": "code",
      "source": [
        "y_pred=enet_model.predict(X_test)"
      ],
      "metadata": {
        "id": "p_f0A3OMpYN8"
      },
      "execution_count": null,
      "outputs": []
    },
    {
      "cell_type": "code",
      "source": [
        "np.sqrt(mean_squared_error(y_test,y_pred))"
      ],
      "metadata": {
        "colab": {
          "base_uri": "https://localhost:8080/"
        },
        "id": "2Jye_q8VpbBn",
        "outputId": "7a847c2e-18c7-4253-b1a1-238cc3c42843"
      },
      "execution_count": null,
      "outputs": [
        {
          "output_type": "execute_result",
          "data": {
            "text/plain": [
              "357.1676548181246"
            ]
          },
          "metadata": {},
          "execution_count": 11
        }
      ]
    },
    {
      "cell_type": "code",
      "source": [
        "r2_score(y_test,y_pred)"
      ],
      "metadata": {
        "colab": {
          "base_uri": "https://localhost:8080/"
        },
        "id": "CZ1swRuTphEd",
        "outputId": "8507b6ab-41be-4630-f9a0-9756ee453825"
      },
      "execution_count": null,
      "outputs": [
        {
          "output_type": "execute_result",
          "data": {
            "text/plain": [
              "0.41070222469326867"
            ]
          },
          "metadata": {},
          "execution_count": 12
        }
      ]
    },
    {
      "cell_type": "code",
      "source": [
        "#Model Tuning"
      ],
      "metadata": {
        "id": "8wov_OjWpnuk"
      },
      "execution_count": null,
      "outputs": []
    },
    {
      "cell_type": "code",
      "source": [
        "enet_CV_model=ElasticNetCV(cv=10).fit(X_train,y_train)"
      ],
      "metadata": {
        "id": "bX6Z7bkGpspL"
      },
      "execution_count": null,
      "outputs": []
    },
    {
      "cell_type": "code",
      "source": [
        "enet_CV_model.alpha_"
      ],
      "metadata": {
        "colab": {
          "base_uri": "https://localhost:8080/"
        },
        "id": "KSksJ6nGp7QE",
        "outputId": "68431585-7ae9-4645-f420-962a8f8de1ba"
      },
      "execution_count": null,
      "outputs": [
        {
          "output_type": "execute_result",
          "data": {
            "text/plain": [
              "5230.764736479864"
            ]
          },
          "metadata": {},
          "execution_count": 16
        }
      ]
    },
    {
      "cell_type": "code",
      "source": [
        "enet_CV_model.coef_"
      ],
      "metadata": {
        "colab": {
          "base_uri": "https://localhost:8080/"
        },
        "id": "XjnJmnHbqBn8",
        "outputId": "7d7fb430-d683-4cae-ce46-73ebe1ebefc6"
      },
      "execution_count": null,
      "outputs": [
        {
          "output_type": "execute_result",
          "data": {
            "text/plain": [
              "array([ 0.62845434,  0.        ,  0.        ,  0.        ,  0.        ,\n",
              "        0.        , -0.        ,  0.        ,  0.09788752,  0.        ,\n",
              "        0.27265769,  0.19270075,  0.00758665,  0.3106529 ,  0.        ,\n",
              "       -0.        ,  0.        , -0.        ,  0.        ])"
            ]
          },
          "metadata": {},
          "execution_count": 17
        }
      ]
    },
    {
      "cell_type": "code",
      "source": [
        "enet_CV_model.intercept_"
      ],
      "metadata": {
        "colab": {
          "base_uri": "https://localhost:8080/"
        },
        "id": "gY8v8F1lqFMX",
        "outputId": "0e6cc324-8fc6-4e78-b4b9-5653a4739f00"
      },
      "execution_count": null,
      "outputs": [
        {
          "output_type": "execute_result",
          "data": {
            "text/plain": [
              "-38.5194055839429"
            ]
          },
          "metadata": {},
          "execution_count": 18
        }
      ]
    },
    {
      "cell_type": "code",
      "source": [
        "enet_tuned=ElasticNet(alpha = enet_CV_model.alpha_).fit(X_train,y_train)"
      ],
      "metadata": {
        "id": "kM1-dHX2qH4_"
      },
      "execution_count": null,
      "outputs": []
    },
    {
      "cell_type": "code",
      "source": [
        "y_pred= enet_tuned.predict(X_test)"
      ],
      "metadata": {
        "id": "djLKqk_TqePa"
      },
      "execution_count": null,
      "outputs": []
    },
    {
      "cell_type": "code",
      "source": [
        "np.sqrt(mean_squared_error(y_test,y_pred))"
      ],
      "metadata": {
        "colab": {
          "base_uri": "https://localhost:8080/"
        },
        "id": "4PrlrazNqlYU",
        "outputId": "7b870e72-8fdd-4f9e-e92a-35089d1158c8"
      },
      "execution_count": null,
      "outputs": [
        {
          "output_type": "execute_result",
          "data": {
            "text/plain": [
              "394.15280563218795"
            ]
          },
          "metadata": {},
          "execution_count": 21
        }
      ]
    },
    {
      "cell_type": "code",
      "source": [
        "?ElasticNet"
      ],
      "metadata": {
        "id": "7E2InpMOqp81"
      },
      "execution_count": null,
      "outputs": []
    },
    {
      "cell_type": "code",
      "source": [],
      "metadata": {
        "id": "HMZ0y5bqq3g6"
      },
      "execution_count": null,
      "outputs": []
    }
  ]
}